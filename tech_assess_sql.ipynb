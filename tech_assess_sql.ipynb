{
 "cells": [
  {
   "cell_type": "markdown",
   "source": [
    "# Technical Assessment (SQL)"
   ],
   "metadata": {}
  },
  {
   "cell_type": "markdown",
   "source": [
    "1.\tUsing the tables above, write a query that returns, for each order, the order_id, the product name, the difference in days between the product go live date and the ordered at date, and the marketing ad network and source. This result should be five rows. Also include the output of the query. "
   ],
   "metadata": {}
  },
  {
   "cell_type": "code",
   "execution_count": null,
   "source": [
    "'''\r\n",
    "SELECT \r\n",
    "  o.id AS order_id, \r\n",
    "  p.name AS product_name, \r\n",
    "  (\r\n",
    "    CAST(o.ordered_at AS DATE) - p.go_live_date\r\n",
    "  ) AS \"days between live date and date ordered\", \r\n",
    "  m.ad_network, \r\n",
    "  m.source \r\n",
    "FROM orders o \r\n",
    "  JOIN products p ON o.product_id = p.id \r\n",
    "  JOIN marketing_orders mo ON mo.order_id = o.id \r\n",
    "  JOIN marketing m ON m.id = mo.marketing_id;\r\n",
    "'''"
   ],
   "outputs": [],
   "metadata": {}
  },
  {
   "cell_type": "markdown",
   "source": [
    "<a>\r\n",
    "\t<img src=\"ques_1.png\">\r\n",
    "</a>"
   ],
   "metadata": {}
  },
  {
   "cell_type": "markdown",
   "source": [
    "2.\tUsing the tables above, write a query that returns the best performing marketing ad network and source, a count of how many orders it had, and the best selling product for that ad network and source. Also include the output of the query.\n",
    "Hint: The best selling product will have to be retrieved through seeing which orders are associated with the best performing marketing ad network and source. In this case, best performing means “Has the largest number of records in the DB associated with it”. This result will be a single row."
   ],
   "metadata": {}
  },
  {
   "cell_type": "code",
   "execution_count": null,
   "source": [
    "'''\r\n",
    "WITH ad_source_info AS (\r\n",
    "SELECT m.ad_network, \r\n",
    "       m.source, \r\n",
    "       p.id AS prod_id, \r\n",
    "       p.name AS product_name, \r\n",
    "       CAST(o.product_quantity AS INT), \r\n",
    "        COUNT(o.id) OVER (\r\n",
    "            PARTITION BY m.id ORDER BY CAST (o.product_quantity AS INT) DESC\r\n",
    "                RANGE BETWEEN UNBOUNDED PRECEDING AND UNBOUNDED FOLLOWING\r\n",
    "            ) AS order_cnt\t\r\n",
    "FROM orders o \r\n",
    "  JOIN products p ON o.product_id = p.id \r\n",
    "  JOIN marketing_orders mo ON mo.order_id = o.id \r\n",
    "  JOIN marketing m ON m.id = mo.marketing_id\r\n",
    ")\r\n",
    "SELECT ad_network, \r\n",
    "        source, \r\n",
    "        order_cnt, \r\n",
    "        product_name \r\n",
    "FROM ad_source_info\r\n",
    "GROUP BY ad_network, source, prod_id, product_name, order_cnt\r\n",
    "ORDER BY order_cnt DESC, SUM(product_quantity) DESC\r\n",
    "LIMIT 1; \r\n",
    "'''"
   ],
   "outputs": [],
   "metadata": {}
  },
  {
   "cell_type": "markdown",
   "source": [
    "<a>\r\n",
    "\t<img src=\"ques_2.png\">\r\n",
    "</a>"
   ],
   "metadata": {}
  },
  {
   "cell_type": "markdown",
   "source": [
    "3.\tWrite a query that determines the best selling product for each month of orders. Also include the output of the query."
   ],
   "metadata": {}
  },
  {
   "cell_type": "code",
   "execution_count": null,
   "source": [
    "'''\r\n",
    "WITH mth_prod_info AS (\r\n",
    "  SELECT \r\n",
    "    EXTRACT(MONTH FROM ordered_at) AS month, \r\n",
    "    p.name AS product_name, \r\n",
    "    RANK() OVER (\r\n",
    "      PARTITION BY EXTRACT(MONTH FROM ordered_at \r\n",
    "      \t) ORDER BY CAST(o.product_quantity AS INT) DESC\r\n",
    "    ) AS ranking\r\n",
    "  FROM orders o \r\n",
    "    JOIN products p ON o.product_id = p.id \r\n",
    "  ORDER BY \r\n",
    "    month\r\n",
    ") \r\n",
    "SELECT \r\n",
    "  month, \r\n",
    "  product_name \r\n",
    "FROM mth_prod_info \r\n",
    "WHERE ranking = 1;\r\n",
    "'''"
   ],
   "outputs": [],
   "metadata": {}
  },
  {
   "cell_type": "markdown",
   "source": [
    "<a>\r\n",
    "\t<img src=\"ques_3.png\">\r\n",
    "</a>"
   ],
   "metadata": {}
  },
  {
   "cell_type": "code",
   "execution_count": null,
   "source": [],
   "outputs": [],
   "metadata": {}
  }
 ],
 "metadata": {
  "kernelspec": {
   "display_name": "Python 3",
   "language": "python",
   "name": "python3"
  },
  "language_info": {
   "codemirror_mode": {
    "name": "ipython",
    "version": 3
   },
   "file_extension": ".py",
   "mimetype": "text/x-python",
   "name": "python",
   "nbconvert_exporter": "python",
   "pygments_lexer": "ipython3",
   "version": "3.7.4"
  }
 },
 "nbformat": 4,
 "nbformat_minor": 2
}