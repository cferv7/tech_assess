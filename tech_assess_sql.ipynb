{
 "cells": [
  {
   "cell_type": "markdown",
   "metadata": {},
   "source": [
    "# Technical Assessment (SQL)"
   ]
  },
  {
   "cell_type": "markdown",
   "metadata": {},
   "source": [
    "1.\tUsing the tables above, write a query that returns, for each order, the order_id, the product name, the difference in days between the product go live date and the ordered at date, and the marketing ad network and source. This result should be five rows. Also include the output of the query. "
   ]
  },
  {
   "cell_type": "raw",
   "metadata": {},
   "source": [
    "SELECT \n",
    "  o.id AS order_id, \n",
    "  p.name AS product_name, \n",
    "  (\n",
    "    CAST(o.ordered_at AS DATE) - p.go_live_date\n",
    "  ) AS \"days between live date and date ordered\", \n",
    "  m.ad_network, \n",
    "  m.source \n",
    "FROM orders o \n",
    "  JOIN products p ON o.product_id = p.id \n",
    "  JOIN marketing_orders mo ON mo.order_id = o.id \n",
    "  JOIN marketing m ON m.id = mo.marketing_id;"
   ]
  },
  {
   "cell_type": "markdown",
   "metadata": {},
   "source": [
    "<img src='ques_1.png'>"
   ]
  },
  {
   "cell_type": "markdown",
   "metadata": {},
   "source": [
    "2.\tUsing the tables above, write a query that returns the best performing marketing ad network and source, a count of how many orders it had, and the best selling product for that ad network and source. Also include the output of the query.\n",
    "Hint: The best selling product will have to be retrieved through seeing which orders are associated with the best performing marketing ad network and source. In this case, best performing means “Has the largest number of records in the DB associated with it”. This result will be a single row."
   ]
  },
  {
   "cell_type": "raw",
   "metadata": {},
   "source": [
    "WITH ad_source_info AS (\n",
    "SELECT m.ad_network, \n",
    "       m.source, \n",
    "       p.id AS prod_id, \n",
    "       p.name AS product_name, \n",
    "       CAST(o.product_quantity AS INT), \n",
    "        COUNT(o.id) OVER (\n",
    "            PARTITION BY m.id ORDER BY CAST (o.product_quantity AS INT) DESC\n",
    "                RANGE BETWEEN UNBOUNDED PRECEDING AND UNBOUNDED FOLLOWING\n",
    "            ) AS order_cnt\t\n",
    "FROM orders o \n",
    "  JOIN products p ON o.product_id = p.id \n",
    "  JOIN marketing_orders mo ON mo.order_id = o.id \n",
    "  JOIN marketing m ON m.id = mo.marketing_id\n",
    ")\n",
    "SELECT ad_network, \n",
    "        source, \n",
    "        order_cnt, \n",
    "        product_name \n",
    "FROM ad_source_info\n",
    "GROUP BY ad_network, source, prod_id, product_name, order_cnt\n",
    "ORDER BY order_cnt DESC, SUM(product_quantity) DESC\n",
    "LIMIT 1; \t "
   ]
  },
  {
   "cell_type": "markdown",
   "metadata": {},
   "source": [
    "<img src='ques_2.png'>"
   ]
  },
  {
   "cell_type": "markdown",
   "metadata": {},
   "source": [
    "3.\tWrite a query that determines the best selling product for each month of orders. Also include the output of the query."
   ]
  },
  {
   "cell_type": "raw",
   "metadata": {},
   "source": [
    "WITH mth_prod_info AS (\n",
    "  SELECT \n",
    "    EXTRACT(MONTH FROM ordered_at) AS month, \n",
    "    p.name AS product_name, \n",
    "    RANK() OVER (\n",
    "      PARTITION BY EXTRACT(MONTH FROM ordered_at \n",
    "      \t) ORDER BY CAST(o.product_quantity AS INT) DESC\n",
    "    ) AS ranking\n",
    "  FROM orders o \n",
    "    JOIN products p ON o.product_id = p.id \n",
    "  ORDER BY \n",
    "    month\n",
    ") \n",
    "SELECT \n",
    "  month, \n",
    "  product_name \n",
    "FROM mth_prod_info \n",
    "WHERE ranking = 1;"
   ]
  },
  {
   "cell_type": "markdown",
   "metadata": {},
   "source": [
    "<img src='ques_3.png'>"
   ]
  },
  {
   "cell_type": "code",
   "execution_count": null,
   "metadata": {},
   "outputs": [],
   "source": []
  }
 ],
 "metadata": {
  "kernelspec": {
   "display_name": "Python 3",
   "language": "python",
   "name": "python3"
  },
  "language_info": {
   "codemirror_mode": {
    "name": "ipython",
    "version": 3
   },
   "file_extension": ".py",
   "mimetype": "text/x-python",
   "name": "python",
   "nbconvert_exporter": "python",
   "pygments_lexer": "ipython3",
   "version": "3.7.4"
  }
 },
 "nbformat": 4,
 "nbformat_minor": 2
}
